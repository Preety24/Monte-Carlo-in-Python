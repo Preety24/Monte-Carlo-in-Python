{
 "cells": [
  {
   "cell_type": "code",
   "execution_count": null,
   "metadata": {},
   "outputs": [],
   "source": [
    "%matplotlib inline\n",
    "import numpy as np\n",
    "import sympy as sy\n",
    "import matplotlib.pyplot as plt\n"
   ]
  },
  {
   "cell_type": "code",
   "execution_count": 12,
   "metadata": {},
   "outputs": [
    {
     "name": "stdout",
     "output_type": "stream",
     "text": [
      "areas of rectangles:  [0.0020000000000000005, 0.008000000000000002, 0.018, 0.03200000000000001, 0.05, 0.072, 0.09799999999999999, 0.12800000000000003, 0.16200000000000003, 0.2]\n",
      "heights of rectangles: [0.020000000000000004, 0.08000000000000002, 0.18, 0.32000000000000006, 0.5, 0.72, 0.9799999999999999, 1.2800000000000002, 1.62, 2.0]\n",
      "area under the curve:  0.77\n"
     ]
    }
   ],
   "source": [
    "N = 10 #number of rectangles\n",
    "\n",
    "width =(1-0)/N  #width= (b-a)/n\n",
    "\n",
    "heights = [(2*i**2)for i in [0.1,0.2,0.3,0.4,0.5,0.6,0.7,0.8,0.9,1.0]]  #y=2x^2 and i= 5(N=5) equal intervals\n",
    "\n",
    "areas = [width*i for i in heights]    #area of each rectangle\n",
    "\n",
    "print('areas of rectangles: ',areas)\n",
    "print('heights of rectangles:', heights)\n",
    "print('area under the curve: ',sum(areas)) # adding areas of rectangles"
   ]
  },
  {
   "cell_type": "code",
   "execution_count": null,
   "metadata": {},
   "outputs": [],
   "source": []
  }
 ],
 "metadata": {
  "kernelspec": {
   "display_name": "Python 3",
   "language": "python",
   "name": "python3"
  },
  "language_info": {
   "codemirror_mode": {
    "name": "ipython",
    "version": 3
   },
   "file_extension": ".py",
   "mimetype": "text/x-python",
   "name": "python",
   "nbconvert_exporter": "python",
   "pygments_lexer": "ipython3",
   "version": "3.7.6"
  }
 },
 "nbformat": 4,
 "nbformat_minor": 4
}
