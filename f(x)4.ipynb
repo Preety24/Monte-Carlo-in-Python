{
 "cells": [
  {
   "cell_type": "code",
   "execution_count": 28,
   "metadata": {},
   "outputs": [],
   "source": [
    "import matplotlib.pyplot as plt\n",
    "import import_ipynb\n",
    "import random\n",
    "import numpy as np"
   ]
  },
  {
   "cell_type": "code",
   "execution_count": 31,
   "metadata": {},
   "outputs": [
    {
     "name": "stdout",
     "output_type": "stream",
     "text": [
      " volume under the curve f(x,y) =  8.110210457805147\n"
     ]
    }
   ],
   "source": [
    "n = 1000\n",
    "a = 0                                #intervals for x\n",
    "b = 2\n",
    "x = np.random.uniform(a,b,n)         #generating random x for given interval \n",
    "\n",
    "c = x**2                            #intervals for y\n",
    "d = 2*x\n",
    "y = np.random.uniform(c,d,n)         #generating random y for given interval\n",
    "\n",
    "f = 4*x+2                        #defining function\n",
    "\n",
    "value = np.sum((f)*((b-a)*(d-c)/n))  #integration\n",
    "\n",
    "print(' volume under the curve f(x,y) = ',value)\n",
    "\n"
   ]
  },
  {
   "cell_type": "code",
   "execution_count": null,
   "metadata": {},
   "outputs": [],
   "source": []
  },
  {
   "cell_type": "code",
   "execution_count": null,
   "metadata": {},
   "outputs": [],
   "source": []
  },
  {
   "cell_type": "code",
   "execution_count": null,
   "metadata": {},
   "outputs": [],
   "source": [
    "\n"
   ]
  },
  {
   "cell_type": "code",
   "execution_count": null,
   "metadata": {},
   "outputs": [],
   "source": []
  },
  {
   "cell_type": "code",
   "execution_count": null,
   "metadata": {},
   "outputs": [],
   "source": []
  },
  {
   "cell_type": "code",
   "execution_count": null,
   "metadata": {},
   "outputs": [],
   "source": []
  }
 ],
 "metadata": {
  "kernelspec": {
   "display_name": "Python 3",
   "language": "python",
   "name": "python3"
  },
  "language_info": {
   "codemirror_mode": {
    "name": "ipython",
    "version": 3
   },
   "file_extension": ".py",
   "mimetype": "text/x-python",
   "name": "python",
   "nbconvert_exporter": "python",
   "pygments_lexer": "ipython3",
   "version": "3.7.6"
  }
 },
 "nbformat": 4,
 "nbformat_minor": 4
}
