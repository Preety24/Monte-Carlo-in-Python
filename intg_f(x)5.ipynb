{
 "cells": [
  {
   "cell_type": "code",
   "execution_count": 2,
   "metadata": {},
   "outputs": [],
   "source": [
    "import import_ipynb\n",
    "import random \n",
    "import numpy as np\n",
    "import matplotlib.pyplot as plt"
   ]
  },
  {
   "cell_type": "code",
   "execution_count": 11,
   "metadata": {},
   "outputs": [
    {
     "name": "stdout",
     "output_type": "stream",
     "text": [
      "area under the curve f(x) =  13.7091\n"
     ]
    }
   ],
   "source": [
    "N = 10000                                            #Number of trials\n",
    "a = 0                                             #a and b are limits of x\n",
    "b = 3\n",
    "c1 = 0                                           #c1 and d1 to create box in first quadrant\n",
    "d1 = 25\n",
    "c2 = -1                                          #c2 and d2 to create box in second quadrant\n",
    "d2 = 0\n",
    "\n",
    "x = np.random.uniform(a,b,N)\n",
    "ya = np.random.uniform(c1,d1,N)\n",
    "yb = np.random.uniform(c2,d2,N)\n",
    "\n",
    "f = x**3 - 2*x + 1                               #defining function\n",
    "ya_in = ya<f                                     #condition to check if points lies inside the area in first quadrant \n",
    "yb_in = yb>f                                     #condition to check if points lies inside the are in fourth quadrant\n",
    "\n",
    "area_box1 = (b-a)*(d1-c1)                        #area of the box in first quad: width*height  \n",
    "area_box2 = (b-a)*(d2-c2)\n",
    "\n",
    "area1 = (np.sum(ya_in)/N) * area_box1           #calculating area under the curve in first quad:   \n",
    "area2 = (np.sum(yb_in)/N) * area_box2           #area under the curve=points under graph/points generated * area of box\n",
    "                                           \n",
    "in_area = area1 + area2                         #sum of area in both quadrant\n",
    "\n",
    "print('area under the curve f(x) = ',in_area)\n",
    "\n"
   ]
  },
  {
   "cell_type": "code",
   "execution_count": null,
   "metadata": {},
   "outputs": [],
   "source": []
  },
  {
   "cell_type": "code",
   "execution_count": null,
   "metadata": {},
   "outputs": [],
   "source": []
  },
  {
   "cell_type": "code",
   "execution_count": null,
   "metadata": {},
   "outputs": [],
   "source": []
  },
  {
   "cell_type": "code",
   "execution_count": null,
   "metadata": {},
   "outputs": [],
   "source": []
  },
  {
   "cell_type": "code",
   "execution_count": null,
   "metadata": {},
   "outputs": [],
   "source": []
  },
  {
   "cell_type": "code",
   "execution_count": null,
   "metadata": {},
   "outputs": [],
   "source": []
  }
 ],
 "metadata": {
  "kernelspec": {
   "display_name": "Python 3",
   "language": "python",
   "name": "python3"
  },
  "language_info": {
   "codemirror_mode": {
    "name": "ipython",
    "version": 3
   },
   "file_extension": ".py",
   "mimetype": "text/x-python",
   "name": "python",
   "nbconvert_exporter": "python",
   "pygments_lexer": "ipython3",
   "version": "3.7.6"
  }
 },
 "nbformat": 4,
 "nbformat_minor": 4
}
