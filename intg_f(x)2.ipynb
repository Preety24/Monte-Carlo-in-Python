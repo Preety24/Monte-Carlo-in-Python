{
 "cells": [
  {
   "cell_type": "code",
   "execution_count": 2,
   "metadata": {},
   "outputs": [],
   "source": [
    "%matplotlib inline\n",
    "import import_ipynb\n",
    "import numpy as np\n",
    "import sympy as sy\n",
    "import matplotlib.pyplot as plt"
   ]
  },
  {
   "cell_type": "code",
   "execution_count": 14,
   "metadata": {},
   "outputs": [
    {
     "data": {
      "text/latex": [
       "$\\displaystyle \\frac{63}{2}$"
      ],
      "text/plain": [
       "63/2"
      ]
     },
     "execution_count": 14,
     "metadata": {},
     "output_type": "execute_result"
    },
    {
     "data": {
      "image/png": "[encoded data removed]",
      "text/plain": [
       "<Figure size 432x288 with 1 Axes>"
      ]
     },
     "metadata": {
      "needs_background": "light"
     },
     "output_type": "display_data"
    }
   ],
   "source": [
    "N=1000\n",
    "x = np.linspace(0,3,N)                             #dividing interval [0,1] into N parts\n",
    "\n",
    "def f(x):\n",
    "    return 2*x**3-x**2                             #defining our function which we are using\n",
    "\n",
    "plt.plot(x,f(x))                                   # to plot f(x)\n",
    "plt.fill_between(x,f(x),alpha =0.3,color= 'red')  #to shade the area b/w x and f(x)\n",
    "                                                   #alpha implies intensity if the shading colour\n",
    "\n",
    "plt.title(\"area under $f(x) = 2x^3-x^2$\")\n",
    "plt.xlabel(\"x\")\n",
    "plt.ylabel(\"f(x)\")\n",
    "\n",
    "x = sy.Symbol('x')                                 #defining symbol for integratin\n",
    "sy.integrate(f(x),(x,0,3))                         #integrating f(x) with limits\n",
    "\n",
    "                    "
   ]
  },
  {
   "cell_type": "code",
   "execution_count": null,
   "metadata": {},
   "outputs": [],
   "source": []
  },
  {
   "cell_type": "code",
   "execution_count": null,
   "metadata": {},
   "outputs": [],
   "source": []
  }
 ],
 "metadata": {
  "kernelspec": {
   "display_name": "Python 3",
   "language": "python",
   "name": "python3"
  },
  "language_info": {
   "codemirror_mode": {
    "name": "ipython",
    "version": 3
   },
   "file_extension": ".py",
   "mimetype": "text/x-python",
   "name": "python",
   "nbconvert_exporter": "python",
   "pygments_lexer": "ipython3",
   "version": "3.7.6"
  }
 },
 "nbformat": 4,
 "nbformat_minor": 4
}
