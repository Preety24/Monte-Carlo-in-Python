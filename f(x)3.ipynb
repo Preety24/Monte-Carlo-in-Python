{
 "cells": [
  {
   "cell_type": "code",
   "execution_count": 15,
   "metadata": {},
   "outputs": [],
   "source": [
    "%matplotlib inline\n",
    "import import_ipynb\n",
    "import random\n",
    "import numpy as np\n",
    "import matplotlib.pyplot as plt"
   ]
  },
  {
   "cell_type": "code",
   "execution_count": 20,
   "metadata": {},
   "outputs": [
    {
     "name": "stdout",
     "output_type": "stream",
     "text": [
      "area under the curve f(x)=  0.24435784369813396\n"
     ]
    },
    {
     "data": {
      "image/png": "[encoded data removed]",
      "text/plain": [
       "<Figure size 432x288 with 1 Axes>"
      ]
     },
     "metadata": {
      "needs_background": "light"
     },
     "output_type": "display_data"
    }
   ],
   "source": [
    "a=0\n",
    "b=1\n",
    "n = 10000\n",
    "\n",
    "x = np.random.uniform(a,b,n)                   #generating random  number\n",
    "f = x**3-2*x+1                                 #defining function\n",
    "F = (np.sum(f))*(b-a)/n                        #calculating integral \n",
    "print ('area under the curve f(x)= ',F)\n",
    "\n",
    "\n",
    "#plotting graph\n",
    "\n",
    "x_in = np.linspace(a,b,n)                              #dividing interval into n parts\n",
    "def f(x_in):\n",
    "   return x_in**3-2*x_in+1                             #defining function to plot graph\n",
    "\n",
    "plt.plot(x_in,f(x_in))                                 #plotting graph with x axis= x_in and y axis= f(x_in) \n",
    "plt.fill_between(x_in,f(x_in),alpha=0.3,color='red')   #shading the in between area, alpha for intensity of shading color\n",
    "\n",
    "plt.title(\"area under the curve $f(x)=x^3-2x+1$\")\n",
    "plt.xlabel('x--------->')\n",
    "plt.ylabel('f(x)-------->')\n",
    "plt.show()\n"
   ]
  },
  {
   "cell_type": "code",
   "execution_count": null,
   "metadata": {},
   "outputs": [],
   "source": []
  },
  {
   "cell_type": "code",
   "execution_count": null,
   "metadata": {},
   "outputs": [],
   "source": []
  },
  {
   "cell_type": "code",
   "execution_count": null,
   "metadata": {},
   "outputs": [],
   "source": []
  },
  {
   "cell_type": "code",
   "execution_count": null,
   "metadata": {},
   "outputs": [],
   "source": []
  },
  {
   "cell_type": "code",
   "execution_count": null,
   "metadata": {},
   "outputs": [],
   "source": []
  },
  {
   "cell_type": "code",
   "execution_count": null,
   "metadata": {},
   "outputs": [],
   "source": []
  },
  {
   "cell_type": "code",
   "execution_count": null,
   "metadata": {},
   "outputs": [],
   "source": []
  }
 ],
 "metadata": {
  "kernelspec": {
   "display_name": "Python 3",
   "language": "python",
   "name": "python3"
  },
  "language_info": {
   "codemirror_mode": {
    "name": "ipython",
    "version": 3
   },
   "file_extension": ".py",
   "mimetype": "text/x-python",
   "name": "python",
   "nbconvert_exporter": "python",
   "pygments_lexer": "ipython3",
   "version": "3.7.6"
  }
 },
 "nbformat": 4,
 "nbformat_minor": 4
}
