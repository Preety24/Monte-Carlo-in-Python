{
 "cells": [
  {
   "cell_type": "code",
   "execution_count": 5,
   "metadata": {},
   "outputs": [
    {
     "name": "stdout",
     "output_type": "stream",
     "text": [
      "enter string: 1222311\n",
      "(1,1) (3,2) (1,3) (2,1) \n"
     ]
    }
   ],
   "source": [
    "# TASK 2: count consecutive repeating numbers and pring them...\n",
    "word= str(input('enter string: '))\n",
    "count=1\n",
    "length=\"\"\n",
    "if len(word)>1:\n",
    "    for i in range(1,len(word)):\n",
    "        if word[i-1]==word[i]:\n",
    "            count+=1\n",
    "        else :\n",
    "            length += \"(\"+str(count)+\",\"+word[i-1]+\") \"\n",
    "            count=1\n",
    "    length += (\"(\"+str(count)+\",\"+word[i-1]+\") \")\n",
    "else:\n",
    "    i=0\n",
    "    length += (\"(\"+str(count)+\",\"+word[i-1]+\") \")\n",
    "print (length)"
   ]
  },
  {
   "cell_type": "code",
   "execution_count": null,
   "metadata": {},
   "outputs": [],
   "source": []
  }
 ],
 "metadata": {
  "kernelspec": {
   "display_name": "Python 3",
   "language": "python",
   "name": "python3"
  },
  "language_info": {
   "codemirror_mode": {
    "name": "ipython",
    "version": 3
   },
   "file_extension": ".py",
   "mimetype": "text/x-python",
   "name": "python",
   "nbconvert_exporter": "python",
   "pygments_lexer": "ipython3",
   "version": "3.7.6"
  }
 },
 "nbformat": 4,
 "nbformat_minor": 4
}
