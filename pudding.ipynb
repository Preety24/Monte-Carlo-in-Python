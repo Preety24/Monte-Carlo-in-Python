{
 "cells": [
  {
   "cell_type": "code",
   "execution_count": 2,
   "metadata": {},
   "outputs": [],
   "source": [
    "import import_ipynb\n",
    "import random\n",
    "import numpy as np\n",
    "import matplotlib.pyplot as plt\n",
    "import seaborn as sns"
   ]
  },
  {
   "cell_type": "code",
   "execution_count": 11,
   "metadata": {},
   "outputs": [
    {
     "name": "stdout",
     "output_type": "stream",
     "text": [
      "enter minimum profit:45\n",
      "cost of making pudding =  88.97758829343543\n",
      "price of each pudding =  133.97758829343542\n"
     ]
    },
    {
     "data": {
      "image/png": "[encoded data removed]",
      "text/plain": [
       "<Figure size 432x288 with 1 Axes>"
      ]
     },
     "metadata": {},
     "output_type": "display_data"
    }
   ],
   "source": [
    "sns.set()\n",
    "n = 20000\n",
    "m = np.random.uniform(20,22,n)                     #randomly generating price for milk\n",
    "s = np.random.uniform(20,23,n)                     #randomly generating price for sugar\n",
    "b = np.random.normal(20,1,n)                       #normal random generator  \n",
    "e = np.random.choice([2,2.5,3],n,[0.2,0.5,0.3])    # discrete random generator...(options,number of trials,probability)\n",
    "a = np.random.choice([550,600],n,[0.7,0.3])\n",
    "\n",
    "c = m + 0.1*s + 1/6*b + 2*e + 0.1*a                #cost of production for each random generation\n",
    "cost = np.sum(c)/n                                 #calculating cost of pudding ...(mean of c)\n",
    "\n",
    "#pudding recipie: 2 cup of milk(considering each cup of half letre)\n",
    "                 #100 gm of sugar \n",
    "                 #2 pieces of bread\n",
    "                 #2 eggs\n",
    "                 #100 gm of almonds\n",
    "\n",
    "p = int(input('enter minimum profit:'))              #minimum profit required\n",
    "price = p + cost                                  #selling price of pudding....cost + profit \n",
    "\n",
    "print('cost of making pudding = ',cost)            #printing values\n",
    "print('price of each pudding = ', price )\n",
    "\n",
    "plt.hist(c,bins=10)\n",
    "\n",
    "plt.axvline(cost,color='red',label='mean cost')    #vetical line to represent mean cost\n",
    "plt.legend()                                       #used for axis line\n",
    "\n",
    "plt.title('random cost of production')\n",
    "plt.xlabel('cost of production')\n",
    "plt.ylabel('frequency')\n",
    "\n",
    "plt.tight_layout()                            #used for a better layout\n"
   ]
  },
  {
   "cell_type": "code",
   "execution_count": null,
   "metadata": {},
   "outputs": [],
   "source": []
  },
  {
   "cell_type": "code",
   "execution_count": null,
   "metadata": {},
   "outputs": [],
   "source": []
  },
  {
   "cell_type": "code",
   "execution_count": null,
   "metadata": {},
   "outputs": [],
   "source": []
  },
  {
   "cell_type": "code",
   "execution_count": null,
   "metadata": {},
   "outputs": [],
   "source": []
  },
  {
   "cell_type": "code",
   "execution_count": null,
   "metadata": {},
   "outputs": [],
   "source": []
  },
  {
   "cell_type": "code",
   "execution_count": null,
   "metadata": {},
   "outputs": [],
   "source": []
  }
 ],
 "metadata": {
  "kernelspec": {
   "display_name": "Python 3",
   "language": "python",
   "name": "python3"
  },
  "language_info": {
   "codemirror_mode": {
    "name": "ipython",
    "version": 3
   },
   "file_extension": ".py",
   "mimetype": "text/x-python",
   "name": "python",
   "nbconvert_exporter": "python",
   "pygments_lexer": "ipython3",
   "version": "3.7.6"
  }
 },
 "nbformat": 4,
 "nbformat_minor": 4
}
